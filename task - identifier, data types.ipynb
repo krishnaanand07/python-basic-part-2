{
 "cells": [
  {
   "cell_type": "code",
   "execution_count": 8,
   "id": "597d4f1b-0f74-4092-b6e5-66bf1b25241d",
   "metadata": {},
   "outputs": [],
   "source": [
    "import sys\n",
    "import keyword\n",
    "import operator\n",
    "from datetime import datetime\n",
    "import os"
   ]
  },
  {
   "cell_type": "code",
   "execution_count": 3,
   "id": "c3c3c9d0-4bf4-4e4d-a898-2d296d1f44d1",
   "metadata": {},
   "outputs": [
    {
     "name": "stdout",
     "output_type": "stream",
     "text": [
      "['False', 'None', 'True', 'and', 'as', 'assert', 'async', 'await', 'break', 'class', 'continue', 'def', 'del', 'elif', 'else', 'except', 'finally', 'for', 'from', 'global', 'if', 'import', 'in', 'is', 'lambda', 'nonlocal', 'not', 'or', 'pass', 'raise', 'return', 'try', 'while', 'with', 'yield']\n"
     ]
    }
   ],
   "source": [
    "print(keyword.kwlist)"
   ]
  },
  {
   "cell_type": "code",
   "execution_count": 5,
   "id": "2490019b-7c34-48d3-bb12-deaeddbc19da",
   "metadata": {},
   "outputs": [
    {
     "data": {
      "text/plain": [
       "35"
      ]
     },
     "execution_count": 5,
     "metadata": {},
     "output_type": "execute_result"
    }
   ],
   "source": [
    "len(keyword.kwlist)"
   ]
  },
  {
   "cell_type": "code",
   "execution_count": null,
   "id": "c1e52c36-0fa6-4fe9-a18d-ddd8430711cd",
   "metadata": {},
   "outputs": [],
   "source": [
    "# Getting started with identifiers"
   ]
  },
  {
   "cell_type": "code",
   "execution_count": 1,
   "id": "af4e2957-2430-44f0-b5fd-059d83a9d0b0",
   "metadata": {},
   "outputs": [
    {
     "ename": "SyntaxError",
     "evalue": "invalid decimal literal (2218452125.py, line 1)",
     "output_type": "error",
     "traceback": [
      "\u001b[1;36m  Cell \u001b[1;32mIn[1], line 1\u001b[1;36m\u001b[0m\n\u001b[1;33m    1var=10\u001b[0m\n\u001b[1;37m    ^\u001b[0m\n\u001b[1;31mSyntaxError\u001b[0m\u001b[1;31m:\u001b[0m invalid decimal literal\n"
     ]
    }
   ],
   "source": [
    "1var=10\n"
   ]
  },
  {
   "cell_type": "code",
   "execution_count": 3,
   "id": "44629e49-685d-472a-9068-f37149be21ab",
   "metadata": {},
   "outputs": [
    {
     "ename": "NameError",
     "evalue": "name 'val2' is not defined",
     "output_type": "error",
     "traceback": [
      "\u001b[1;31m---------------------------------------------------------------------------\u001b[0m",
      "\u001b[1;31mNameError\u001b[0m                                 Traceback (most recent call last)",
      "Cell \u001b[1;32mIn[3], line 1\u001b[0m\n\u001b[1;32m----> 1\u001b[0m val2\u001b[38;5;241m@\u001b[39m\u001b[38;5;241m=\u001b[39m\u001b[38;5;241m35\u001b[39m\n",
      "\u001b[1;31mNameError\u001b[0m: name 'val2' is not defined"
     ]
    }
   ],
   "source": [
    "val2@=35"
   ]
  },
  {
   "cell_type": "code",
   "execution_count": 1,
   "id": "08adcb77-b72b-4368-a0db-de6428ec7712",
   "metadata": {},
   "outputs": [
    {
     "ename": "SyntaxError",
     "evalue": "invalid syntax (2194513907.py, line 1)",
     "output_type": "error",
     "traceback": [
      "\u001b[1;36m  Cell \u001b[1;32mIn[1], line 1\u001b[1;36m\u001b[0m\n\u001b[1;33m    import=125\u001b[0m\n\u001b[1;37m          ^\u001b[0m\n\u001b[1;31mSyntaxError\u001b[0m\u001b[1;31m:\u001b[0m invalid syntax\n"
     ]
    }
   ],
   "source": [
    "import=125"
   ]
  },
  {
   "cell_type": "code",
   "execution_count": 3,
   "id": "2a16b879-6344-4870-9ca2-7ecef0b561ce",
   "metadata": {},
   "outputs": [],
   "source": [
    "val2=99 #accepted "
   ]
  },
  {
   "cell_type": "code",
   "execution_count": null,
   "id": "b21fc6a7-7ff4-47d1-97be-7ca6a4cb6162",
   "metadata": {},
   "outputs": [],
   "source": [
    "val_=15  #accepted "
   ]
  },
  {
   "cell_type": "code",
   "execution_count": null,
   "id": "2750368f-476b-4ec8-9d1b-23d1f091767e",
   "metadata": {},
   "outputs": [],
   "source": [
    "# Comments in Python\n"
   ]
  },
  {
   "cell_type": "code",
   "execution_count": null,
   "id": "09c8a695-9933-4173-911d-379079f669b7",
   "metadata": {},
   "outputs": [],
   "source": [
    "#  it is ued for single line comment"
   ]
  },
  {
   "cell_type": "code",
   "execution_count": 5,
   "id": "dad8c3c9-9583-4661-95cb-073d482f55d3",
   "metadata": {},
   "outputs": [],
   "source": [
    "#Multiple\n",
    "#line\n",
    "#comment"
   ]
  },
  {
   "cell_type": "code",
   "execution_count": null,
   "id": "75e3ac47-d48e-4a10-b9c3-1a80f2323f05",
   "metadata": {},
   "outputs": [],
   "source": [
    "'''\n",
    "Multiple\n",
    "line\n",
    "comment\n",
    "'''"
   ]
  },
  {
   "cell_type": "code",
   "execution_count": null,
   "id": "10624f87-d2bd-4aa4-9645-1f283fb3e538",
   "metadata": {},
   "outputs": [],
   "source": [
    "\"\"\"\n",
    "Multiple\n",
    "line\n",
    "comment\n",
    "\"\"\""
   ]
  },
  {
   "cell_type": "markdown",
   "id": "05c88e32-d043-4987-bb17-857216472faf",
   "metadata": {},
   "source": [
    "# statements\n"
   ]
  },
  {
   "cell_type": "code",
   "execution_count": 9,
   "id": "4d34c526-1397-4e35-8171-ea83fd1f882c",
   "metadata": {},
   "outputs": [
    {
     "data": {
      "text/plain": [
       "(20, int, '0x7ffc682c2c18')"
      ]
     },
     "execution_count": 9,
     "metadata": {},
     "output_type": "execute_result"
    }
   ],
   "source": [
    "p=20\n",
    "q=20\n",
    "r=q\n",
    "p,type(p),hex(id(p))"
   ]
  },
  {
   "cell_type": "code",
   "execution_count": 13,
   "id": "5d5767a6-93ea-4109-86b7-e648215bfae1",
   "metadata": {},
   "outputs": [
    {
     "data": {
      "text/plain": [
       "(20, int, '0x7ffc682c2c18')"
      ]
     },
     "execution_count": 13,
     "metadata": {},
     "output_type": "execute_result"
    }
   ],
   "source": [
    "q,type(q),hex(id(q))"
   ]
  },
  {
   "cell_type": "code",
   "execution_count": 15,
   "id": "56630850-2793-4caa-a6e0-7686cb386b24",
   "metadata": {},
   "outputs": [
    {
     "data": {
      "text/plain": [
       "(20, int, '0x7ffc682c2c18')"
      ]
     },
     "execution_count": 15,
     "metadata": {},
     "output_type": "execute_result"
    }
   ],
   "source": [
    "r,type(r),hex(id(r))"
   ]
  },
  {
   "cell_type": "code",
   "execution_count": 17,
   "id": "57534bcd-6c7f-4217-89e7-41aa46a55670",
   "metadata": {},
   "outputs": [
    {
     "data": {
      "text/plain": [
       "40"
      ]
     },
     "execution_count": 17,
     "metadata": {},
     "output_type": "execute_result"
    }
   ],
   "source": [
    "p=20\n",
    "p=p+20\n",
    "p"
   ]
  },
  {
   "cell_type": "markdown",
   "id": "90fa15d2-f95f-48a6-809e-d8465bd0432f",
   "metadata": {},
   "source": [
    "# Variable Assigment\n"
   ]
  },
  {
   "cell_type": "code",
   "execution_count": 21,
   "id": "71a5df8f-aef5-40f1-813a-09e40bf26b72",
   "metadata": {},
   "outputs": [
    {
     "name": "stdout",
     "output_type": "stream",
     "text": [
      "10\n",
      "2.57\n",
      "Python Language\n"
     ]
    }
   ],
   "source": [
    "intvar=10\n",
    "floatvar=2.57\n",
    "strvar=\"Python Language\"\n",
    "print(intvar)\n",
    "print(floatvar)\n",
    "print(strvar)"
   ]
  },
  {
   "cell_type": "code",
   "execution_count": null,
   "id": "9fb1ed3e-20be-4df3-8132-ea99c4f0a495",
   "metadata": {},
   "outputs": [],
   "source": [
    "# Multiple Assignments"
   ]
  },
  {
   "cell_type": "code",
   "execution_count": 23,
   "id": "e60cea68-92e6-407b-b1b4-30359517498c",
   "metadata": {},
   "outputs": [
    {
     "name": "stdout",
     "output_type": "stream",
     "text": [
      "10\n",
      "2.57\n",
      "Python Language\n"
     ]
    }
   ],
   "source": [
    "intvar , floatvar , strvar = 10,2.57,\"Python Language\"  \n",
    "print(intvar)\n",
    "print(floatvar)\n",
    "print(strvar)"
   ]
  },
  {
   "cell_type": "code",
   "execution_count": 25,
   "id": "5cd1da79-3831-4e74-babe-c2691b181ca4",
   "metadata": {},
   "outputs": [
    {
     "name": "stdout",
     "output_type": "stream",
     "text": [
      "44 44 44 44\n"
     ]
    }
   ],
   "source": [
    "p1 = p2 = p3 = p4 = 44  \n",
    "print(p1,p2,p3,p4)\n"
   ]
  },
  {
   "cell_type": "markdown",
   "id": "5c6975a8-2412-4fa8-b13d-cf18d828f5ba",
   "metadata": {},
   "source": [
    "# DATA TYPES"
   ]
  },
  {
   "cell_type": "markdown",
   "id": "8377e58d-6bc8-46e1-b14c-a42b985fd65a",
   "metadata": {},
   "source": [
    "<!-- Numeric -->"
   ]
  },
  {
   "cell_type": "markdown",
   "id": "8ac8ca16-51b6-430c-8187-f09bab5b6e83",
   "metadata": {},
   "source": [
    "# numeric"
   ]
  },
  {
   "cell_type": "code",
   "execution_count": 16,
   "id": "e0ebfbeb-e0b3-4639-9a29-a1d452244d98",
   "metadata": {},
   "outputs": [
    {
     "name": "stdout",
     "output_type": "stream",
     "text": [
      "10\n",
      "<class 'int'>\n",
      "28\n",
      "10 is Integer? True\n"
     ]
    }
   ],
   "source": [
    "val1=10\n",
    "print(val1)\n",
    "print(type(val1))\n",
    "print(sys.getsizeof(val1))\n",
    "print(val1,\"is Integer?\",isinstance(val1,int))"
   ]
  },
  {
   "cell_type": "code",
   "execution_count": 18,
   "id": "00d80aa1-9c5b-414b-806c-62a0e53748f2",
   "metadata": {},
   "outputs": [
    {
     "name": "stdout",
     "output_type": "stream",
     "text": [
      "92.78\n",
      "24\n",
      "92.78 is float? True\n"
     ]
    }
   ],
   "source": [
    "val2=92.78\n",
    "print(val2)\n",
    "print(sys.getsizeof(val2))\n",
    "print(val2,\"is float?\",isinstance(val2,float))"
   ]
  },
  {
   "cell_type": "code",
   "execution_count": 20,
   "id": "720e4e1f-4cd7-4b74-bed7-32f822218a9c",
   "metadata": {},
   "outputs": [
    {
     "name": "stdout",
     "output_type": "stream",
     "text": [
      "(25+10j)\n",
      "<class 'complex'>\n",
      "32\n",
      "(25+10j) is complex? True\n"
     ]
    }
   ],
   "source": [
    "val3=25+10j\n",
    "print(val3)\n",
    "print(type(val3))\n",
    "print(sys.getsizeof(val3))\n",
    "print(val3,\"is complex?\",isinstance(val3,complex))"
   ]
  },
  {
   "cell_type": "code",
   "execution_count": 22,
   "id": "9ed3d074-b3d6-46fc-aa5a-5203cfa2c25b",
   "metadata": {},
   "outputs": [
    {
     "data": {
      "text/plain": [
       "28"
      ]
     },
     "execution_count": 22,
     "metadata": {},
     "output_type": "execute_result"
    }
   ],
   "source": [
    "sys.getsizeof(int())"
   ]
  },
  {
   "cell_type": "code",
   "execution_count": 24,
   "id": "452f549c-70b6-43f8-a766-f8c56cf233d0",
   "metadata": {},
   "outputs": [
    {
     "data": {
      "text/plain": [
       "24"
      ]
     },
     "execution_count": 24,
     "metadata": {},
     "output_type": "execute_result"
    }
   ],
   "source": [
    "sys.getsizeof(float())"
   ]
  },
  {
   "cell_type": "code",
   "execution_count": 26,
   "id": "64176f4a-66c4-440a-802e-56b66447600d",
   "metadata": {},
   "outputs": [
    {
     "data": {
      "text/plain": [
       "32"
      ]
     },
     "execution_count": 26,
     "metadata": {},
     "output_type": "execute_result"
    }
   ],
   "source": [
    "sys.getsizeof(complex())"
   ]
  },
  {
   "cell_type": "code",
   "execution_count": null,
   "id": "79b76182-4d97-4560-b268-4992feda359f",
   "metadata": {},
   "outputs": [],
   "source": [
    "# Boolean"
   ]
  },
  {
   "cell_type": "code",
   "execution_count": 28,
   "id": "012114bf-be0d-4d38-a671-fad5492f7124",
   "metadata": {},
   "outputs": [],
   "source": [
    "bool1=True\n"
   ]
  },
  {
   "cell_type": "code",
   "execution_count": 30,
   "id": "c6f6ec50-0f8b-4d1c-8df9-f56edc90111f",
   "metadata": {},
   "outputs": [],
   "source": [
    "bool2=False"
   ]
  },
  {
   "cell_type": "code",
   "execution_count": 32,
   "id": "ccad6f95-c882-4dbf-8f6e-149db3c64ea5",
   "metadata": {},
   "outputs": [
    {
     "name": "stdout",
     "output_type": "stream",
     "text": [
      "<class 'bool'>\n"
     ]
    }
   ],
   "source": [
    "print(type(bool1))"
   ]
  },
  {
   "cell_type": "code",
   "execution_count": 34,
   "id": "c96aa561-7d6b-4e33-a385-42f078eefaa4",
   "metadata": {},
   "outputs": [
    {
     "name": "stdout",
     "output_type": "stream",
     "text": [
      "<class 'bool'>\n"
     ]
    }
   ],
   "source": [
    "print(type(bool2))"
   ]
  },
  {
   "cell_type": "code",
   "execution_count": 36,
   "id": "e6df6027-96a8-408f-9dbb-a59f4ed9f082",
   "metadata": {},
   "outputs": [
    {
     "data": {
      "text/plain": [
       "True"
      ]
     },
     "execution_count": 36,
     "metadata": {},
     "output_type": "execute_result"
    }
   ],
   "source": [
    "isinstance(bool1,bool)"
   ]
  },
  {
   "cell_type": "code",
   "execution_count": 38,
   "id": "b37040aa-4a7b-44ad-9e60-caef6727404a",
   "metadata": {},
   "outputs": [
    {
     "data": {
      "text/plain": [
       "False"
      ]
     },
     "execution_count": 38,
     "metadata": {},
     "output_type": "execute_result"
    }
   ],
   "source": [
    "bool(0)"
   ]
  },
  {
   "cell_type": "code",
   "execution_count": 40,
   "id": "a0aa47a3-93e9-4599-91ba-c2c2a0a2b01f",
   "metadata": {},
   "outputs": [
    {
     "data": {
      "text/plain": [
       "True"
      ]
     },
     "execution_count": 40,
     "metadata": {},
     "output_type": "execute_result"
    }
   ],
   "source": [
    "bool(1)"
   ]
  },
  {
   "cell_type": "code",
   "execution_count": 42,
   "id": "3f5bfcd0-52e6-4ed7-a8ac-064111ed3e0a",
   "metadata": {},
   "outputs": [
    {
     "data": {
      "text/plain": [
       "False"
      ]
     },
     "execution_count": 42,
     "metadata": {},
     "output_type": "execute_result"
    }
   ],
   "source": [
    "bool(None)"
   ]
  },
  {
   "cell_type": "code",
   "execution_count": 44,
   "id": "7ecc2655-38c7-44a8-9459-67fa2f6e96d5",
   "metadata": {},
   "outputs": [
    {
     "data": {
      "text/plain": [
       "False"
      ]
     },
     "execution_count": 44,
     "metadata": {},
     "output_type": "execute_result"
    }
   ],
   "source": [
    "bool(False)"
   ]
  },
  {
   "cell_type": "markdown",
   "id": "2bd6bb2e-97dd-46a1-aee8-ecababdc7e1b",
   "metadata": {},
   "source": [
    "# String"
   ]
  },
  {
   "cell_type": "code",
   "execution_count": 46,
   "id": "a9decc18-46be-4022-bab9-84a4db64a3c7",
   "metadata": {},
   "outputs": [
    {
     "name": "stdout",
     "output_type": "stream",
     "text": [
      "HELLO PYTHON\n"
     ]
    }
   ],
   "source": [
    "str1=\"HELLO PYTHON\"\n",
    "print(str1)"
   ]
  },
  {
   "cell_type": "code",
   "execution_count": 48,
   "id": "f011c113-a569-477a-9735-46a23adc9e23",
   "metadata": {},
   "outputs": [
    {
     "name": "stdout",
     "output_type": "stream",
     "text": [
      "Hello World\n"
     ]
    }
   ],
   "source": [
    "mystr='Hello World'\n",
    "print(mystr)"
   ]
  },
  {
   "cell_type": "code",
   "execution_count": 50,
   "id": "cf5b59dc-811d-4828-b41e-8940eedc7142",
   "metadata": {},
   "outputs": [
    {
     "name": "stdout",
     "output_type": "stream",
     "text": [
      "Hello World\n"
     ]
    }
   ],
   "source": [
    "mystr=\"Hello World\"\n",
    "print(mystr)"
   ]
  },
  {
   "cell_type": "code",
   "execution_count": 52,
   "id": "184a1d1c-ad6c-4218-859e-48ce99e5c8f6",
   "metadata": {},
   "outputs": [
    {
     "name": "stdout",
     "output_type": "stream",
     "text": [
      "Hello \n",
      "            World\n"
     ]
    }
   ],
   "source": [
    "mystr='''Hello \n",
    "            World'''\n",
    "print(mystr)"
   ]
  },
  {
   "cell_type": "code",
   "execution_count": 54,
   "id": "0f6103c3-b594-4441-850d-9c41b7c4f7d3",
   "metadata": {},
   "outputs": [
    {
     "name": "stdout",
     "output_type": "stream",
     "text": [
      "Hello \n",
      "            World\n"
     ]
    }
   ],
   "source": [
    "mystr=\"\"\"Hello \n",
    "            World\"\"\"\n",
    "print(mystr)"
   ]
  },
  {
   "cell_type": "code",
   "execution_count": 56,
   "id": "f4fb6335-f10c-4803-8a47-9a3a691284d6",
   "metadata": {},
   "outputs": [
    {
     "name": "stdout",
     "output_type": "stream",
     "text": [
      "HappyMondayEveryone\n"
     ]
    }
   ],
   "source": [
    "mystr=('Happy'\n",
    "       'Monday'\n",
    "        'Everyone')\n",
    "print(mystr)"
   ]
  },
  {
   "cell_type": "code",
   "execution_count": 60,
   "id": "30369dce-55cb-46dc-9e4a-e3a52c6f7776",
   "metadata": {},
   "outputs": [
    {
     "data": {
      "text/plain": [
       "'Woohoo Woohoo Woohoo Woohoo Woohoo '"
      ]
     },
     "execution_count": 60,
     "metadata": {},
     "output_type": "execute_result"
    }
   ],
   "source": [
    "mystr2='Woohoo '\n",
    "mystr2=mystr2*5\n",
    "mystr2"
   ]
  },
  {
   "cell_type": "code",
   "execution_count": 62,
   "id": "559d97b7-a2ae-4ef3-8aef-3fbaa9148d78",
   "metadata": {},
   "outputs": [
    {
     "data": {
      "text/plain": [
       "35"
      ]
     },
     "execution_count": 62,
     "metadata": {},
     "output_type": "execute_result"
    }
   ],
   "source": [
    "len(mystr2)"
   ]
  },
  {
   "cell_type": "markdown",
   "id": "3fe529e3-8803-4adb-929e-4ccd567ec387",
   "metadata": {},
   "source": [
    "# String indexing"
   ]
  },
  {
   "cell_type": "code",
   "execution_count": 65,
   "id": "fea2aa3e-5a09-49b3-bade-4b572524a411",
   "metadata": {},
   "outputs": [
    {
     "data": {
      "text/plain": [
       "'HELLO PYTHON'"
      ]
     },
     "execution_count": 65,
     "metadata": {},
     "output_type": "execute_result"
    }
   ],
   "source": [
    "str1\n"
   ]
  },
  {
   "cell_type": "code",
   "execution_count": 69,
   "id": "0583d3c9-f54b-4621-82ee-ba5553f19faa",
   "metadata": {},
   "outputs": [
    {
     "data": {
      "text/plain": [
       "'H'"
      ]
     },
     "execution_count": 69,
     "metadata": {},
     "output_type": "execute_result"
    }
   ],
   "source": [
    "str1[0]"
   ]
  },
  {
   "cell_type": "code",
   "execution_count": 73,
   "id": "fe73f80f-a0b9-4e50-8eab-c0bd1c3e13c3",
   "metadata": {},
   "outputs": [
    {
     "data": {
      "text/plain": [
       "'N'"
      ]
     },
     "execution_count": 73,
     "metadata": {},
     "output_type": "execute_result"
    }
   ],
   "source": [
    "str1[len(str1)-1]"
   ]
  },
  {
   "cell_type": "code",
   "execution_count": 75,
   "id": "7915479b-3d6b-4abd-8e31-01ebd2373203",
   "metadata": {},
   "outputs": [
    {
     "data": {
      "text/plain": [
       "'N'"
      ]
     },
     "execution_count": 75,
     "metadata": {},
     "output_type": "execute_result"
    }
   ],
   "source": [
    "str1[-1]"
   ]
  },
  {
   "cell_type": "code",
   "execution_count": 79,
   "id": "d9d26a35-24e6-4be2-9b34-42e76c2b7458",
   "metadata": {},
   "outputs": [
    {
     "data": {
      "text/plain": [
       "'P'"
      ]
     },
     "execution_count": 79,
     "metadata": {},
     "output_type": "execute_result"
    }
   ],
   "source": [
    "str1[6]"
   ]
  },
  {
   "cell_type": "code",
   "execution_count": 81,
   "id": "dbfd2bef-f922-42b0-8af0-7e2fffe83e6b",
   "metadata": {},
   "outputs": [
    {
     "data": {
      "text/plain": [
       "' '"
      ]
     },
     "execution_count": 81,
     "metadata": {},
     "output_type": "execute_result"
    }
   ],
   "source": [
    "str1[5]"
   ]
  },
  {
   "cell_type": "markdown",
   "id": "86515675-c8b0-41f2-ab3d-0f46ea9b32a4",
   "metadata": {},
   "source": [
    "# String Slicing"
   ]
  },
  {
   "cell_type": "code",
   "execution_count": 83,
   "id": "787354d6-bca6-4d23-a977-5ee3cddf0bf8",
   "metadata": {},
   "outputs": [
    {
     "data": {
      "text/plain": [
       "'HELLO'"
      ]
     },
     "execution_count": 83,
     "metadata": {},
     "output_type": "execute_result"
    }
   ],
   "source": [
    "str1[0:5]"
   ]
  },
  {
   "cell_type": "code",
   "execution_count": 85,
   "id": "22b815e7-f2b3-4812-a5d0-fdb5042b7bf3",
   "metadata": {},
   "outputs": [
    {
     "data": {
      "text/plain": [
       "'PYTHON'"
      ]
     },
     "execution_count": 85,
     "metadata": {},
     "output_type": "execute_result"
    }
   ],
   "source": [
    "str1[6:12]"
   ]
  },
  {
   "cell_type": "code",
   "execution_count": 87,
   "id": "7182ae38-09af-414e-87d7-01f093fc08f7",
   "metadata": {},
   "outputs": [
    {
     "data": {
      "text/plain": [
       "'THON'"
      ]
     },
     "execution_count": 87,
     "metadata": {},
     "output_type": "execute_result"
    }
   ],
   "source": [
    "str1[-4:]"
   ]
  },
  {
   "cell_type": "code",
   "execution_count": 89,
   "id": "25fe8d0b-71e2-4d1d-a1cb-2cc8e917052c",
   "metadata": {},
   "outputs": [
    {
     "data": {
      "text/plain": [
       "'PYTHON'"
      ]
     },
     "execution_count": 89,
     "metadata": {},
     "output_type": "execute_result"
    }
   ],
   "source": [
    "str1[-6:]"
   ]
  },
  {
   "cell_type": "code",
   "execution_count": 91,
   "id": "786db24d-2547-4596-ab7f-140338cfbdee",
   "metadata": {},
   "outputs": [
    {
     "data": {
      "text/plain": [
       "'HELL'"
      ]
     },
     "execution_count": 91,
     "metadata": {},
     "output_type": "execute_result"
    }
   ],
   "source": [
    "str1[:4]"
   ]
  },
  {
   "cell_type": "code",
   "execution_count": 93,
   "id": "7d5835f7-e05d-4cdc-ad97-c660c76998c0",
   "metadata": {},
   "outputs": [
    {
     "data": {
      "text/plain": [
       "'HELLO '"
      ]
     },
     "execution_count": 93,
     "metadata": {},
     "output_type": "execute_result"
    }
   ],
   "source": [
    "str1[:6]"
   ]
  },
  {
   "cell_type": "markdown",
   "id": "1cbf32bd-7954-4fd7-a721-bbb68f9f04f3",
   "metadata": {},
   "source": [
    "# Update and Delete String"
   ]
  },
  {
   "cell_type": "code",
   "execution_count": 95,
   "id": "8ff4915d-f1b1-49a3-9016-5cbb18041933",
   "metadata": {},
   "outputs": [
    {
     "data": {
      "text/plain": [
       "'HELLO PYTHON'"
      ]
     },
     "execution_count": 95,
     "metadata": {},
     "output_type": "execute_result"
    }
   ],
   "source": [
    "str1\n"
   ]
  },
  {
   "cell_type": "code",
   "execution_count": 97,
   "id": "b7b3f75c-b99d-4df8-aee8-b504da6d2cb1",
   "metadata": {},
   "outputs": [
    {
     "ename": "TypeError",
     "evalue": "'str' object does not support item assignment",
     "output_type": "error",
     "traceback": [
      "\u001b[1;31m---------------------------------------------------------------------------\u001b[0m",
      "\u001b[1;31mTypeError\u001b[0m                                 Traceback (most recent call last)",
      "Cell \u001b[1;32mIn[97], line 1\u001b[0m\n\u001b[1;32m----> 1\u001b[0m str1[\u001b[38;5;241m0\u001b[39m:\u001b[38;5;241m5\u001b[39m]\u001b[38;5;241m=\u001b[39m\u001b[38;5;124m'\u001b[39m\u001b[38;5;124mHOLAA\u001b[39m\u001b[38;5;124m'\u001b[39m\n",
      "\u001b[1;31mTypeError\u001b[0m: 'str' object does not support item assignment"
     ]
    }
   ],
   "source": [
    "str1[0:5]='HOLAA'"
   ]
  },
  {
   "cell_type": "code",
   "execution_count": 99,
   "id": "6a3ee9b9-e0aa-447e-b662-afcd43424cb1",
   "metadata": {},
   "outputs": [
    {
     "ename": "NameError",
     "evalue": "name 'str1' is not defined",
     "output_type": "error",
     "traceback": [
      "\u001b[1;31m---------------------------------------------------------------------------\u001b[0m",
      "\u001b[1;31mNameError\u001b[0m                                 Traceback (most recent call last)",
      "Cell \u001b[1;32mIn[99], line 2\u001b[0m\n\u001b[0;32m      1\u001b[0m \u001b[38;5;28;01mdel\u001b[39;00m str1\n\u001b[1;32m----> 2\u001b[0m \u001b[38;5;28mprint\u001b[39m(str1)\n",
      "\u001b[1;31mNameError\u001b[0m: name 'str1' is not defined"
     ]
    }
   ],
   "source": [
    "del str1\n",
    "print(str1)"
   ]
  },
  {
   "cell_type": "code",
   "execution_count": 105,
   "id": "4a34dfb6-ac06-4e8e-a781-904fb6cb86de",
   "metadata": {},
   "outputs": [
    {
     "name": "stdout",
     "output_type": "stream",
     "text": [
      "Hello Krishna\n"
     ]
    }
   ],
   "source": [
    "s1=\"Hello \"\n",
    "s2=\"Krishna\"\n",
    "s3=s1+s2\n",
    "print(s3)"
   ]
  },
  {
   "cell_type": "code",
   "execution_count": null,
   "id": "85ecef95-1336-4a0e-a632-b112fb9bd644",
   "metadata": {},
   "outputs": [],
   "source": []
  }
 ],
 "metadata": {
  "kernelspec": {
   "display_name": "Python 3 (ipykernel)",
   "language": "python",
   "name": "python3"
  },
  "language_info": {
   "codemirror_mode": {
    "name": "ipython",
    "version": 3
   },
   "file_extension": ".py",
   "mimetype": "text/x-python",
   "name": "python",
   "nbconvert_exporter": "python",
   "pygments_lexer": "ipython3",
   "version": "3.12.7"
  }
 },
 "nbformat": 4,
 "nbformat_minor": 5
}
