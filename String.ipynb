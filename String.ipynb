{
 "cells": [
  {
   "cell_type": "markdown",
   "id": "494310a1-d671-4f2f-b675-c94aba70f25c",
   "metadata": {},
   "source": [
    "# Comment"
   ]
  },
  {
   "cell_type": "markdown",
   "id": "8dea942b-0459-4b51-abd9-ab7865184149",
   "metadata": {},
   "source": [
    "# Single line comment"
   ]
  },
  {
   "cell_type": "code",
   "execution_count": 6,
   "id": "aaedbb3b-fef3-474a-92d8-933ea18d1c54",
   "metadata": {},
   "outputs": [
    {
     "name": "stdout",
     "output_type": "stream",
     "text": [
      "P\n",
      "1\n"
     ]
    }
   ],
   "source": [
    "letter = 'P'                \n",
    "print(letter)\n",
    "print(len(letter))          \n"
   ]
  },
  {
   "cell_type": "code",
   "execution_count": 8,
   "id": "2ea2b63e-6e47-4ea0-b9b9-945b15d29ec2",
   "metadata": {},
   "outputs": [
    {
     "name": "stdout",
     "output_type": "stream",
     "text": [
      "Hello, World!\n",
      "13\n"
     ]
    }
   ],
   "source": [
    "greeting = 'Hello, World!'\n",
    "print(greeting)             \n",
    "print(len(greeting))       \n"
   ]
  },
  {
   "cell_type": "code",
   "execution_count": 10,
   "id": "d4ed0a13-934a-47ec-bbac-05d0c6fcd255",
   "metadata": {},
   "outputs": [
    {
     "name": "stdout",
     "output_type": "stream",
     "text": [
      "I hope you are enjoying 30 days of python challenge\n"
     ]
    }
   ],
   "source": [
    "sentence = \"I hope you are enjoying 30 days of python challenge\"\n",
    "print(sentence)"
   ]
  },
  {
   "cell_type": "markdown",
   "id": "f7af8ccb-20c2-45e4-95c6-1fd55598fb12",
   "metadata": {},
   "source": [
    "# Multiline String"
   ]
  },
  {
   "cell_type": "code",
   "execution_count": 13,
   "id": "0dc8f024-844f-41d0-a9a3-dff2138b7a23",
   "metadata": {},
   "outputs": [
    {
     "name": "stdout",
     "output_type": "stream",
     "text": [
      "I am a teacher and enjoy teaching.\n",
      "I didn't find anything as rewarding as empowering people.\n",
      "That is why I created 30 days of python.\n"
     ]
    }
   ],
   "source": [
    "multiline_string = '''I am a teacher and enjoy teaching.\n",
    "I didn't find anything as rewarding as empowering people.\n",
    "That is why I created 30 days of python.'''\n",
    "print(multiline_string)"
   ]
  },
  {
   "cell_type": "code",
   "execution_count": 15,
   "id": "2e92f70c-be70-44ff-8c15-4a5fd5c716e2",
   "metadata": {},
   "outputs": [
    {
     "name": "stdout",
     "output_type": "stream",
     "text": [
      "I am a teacher and enjoy teaching.\n",
      "I didn't find anything as rewarding as empowering people.\n",
      "That is why I created 30 days of python.\n"
     ]
    }
   ],
   "source": [
    "multiline_string = \"\"\"I am a teacher and enjoy teaching.\n",
    "I didn't find anything as rewarding as empowering people.\n",
    "That is why I created 30 days of python.\"\"\"\n",
    "print(multiline_string)"
   ]
  },
  {
   "cell_type": "markdown",
   "id": "e38aaf23-d7b7-4c52-a6bc-a289c98526b2",
   "metadata": {},
   "source": [
    "# String Concatenation"
   ]
  },
  {
   "cell_type": "code",
   "execution_count": 18,
   "id": "1a272ffb-fe0b-48d8-bdb7-361157dcd7f1",
   "metadata": {},
   "outputs": [
    {
     "name": "stdout",
     "output_type": "stream",
     "text": [
      "Krishna Anand Chauhan\n"
     ]
    }
   ],
   "source": [
    "first_name = 'Krishna Anand'\n",
    "last_name = 'Chauhan'\n",
    "space = ' '\n",
    "full_name = first_name  +  space + last_name\n",
    "print(full_name)"
   ]
  },
  {
   "cell_type": "code",
   "execution_count": 20,
   "id": "9abb7636-1870-4062-a37c-0d1e00f8ff75",
   "metadata": {},
   "outputs": [
    {
     "name": "stdout",
     "output_type": "stream",
     "text": [
      "13\n",
      "7\n",
      "True\n",
      "21\n"
     ]
    }
   ],
   "source": [
    "print(len(first_name))   \n",
    "print(len(last_name))   \n",
    "print(len(first_name) > len(last_name))  \n",
    "print(len(full_name))  "
   ]
  },
  {
   "cell_type": "code",
   "execution_count": 22,
   "id": "d03757ec-e2a7-4bc2-a071-3e428f751c9e",
   "metadata": {},
   "outputs": [
    {
     "name": "stdout",
     "output_type": "stream",
     "text": [
      "P\n",
      "y\n",
      "t\n",
      "h\n",
      "o\n",
      "n\n"
     ]
    }
   ],
   "source": [
    "language = 'Python'\n",
    "a,b,c,d,e,f = language \n",
    "print(a)  \n",
    "print(b) \n",
    "print(c)  \n",
    "print(d) \n",
    "print(e) \n",
    "print(f) "
   ]
  },
  {
   "cell_type": "markdown",
   "id": "ba53c816-9297-42de-a130-dba205cb9974",
   "metadata": {},
   "source": [
    "# Accessing characters in strings by index"
   ]
  },
  {
   "cell_type": "code",
   "execution_count": 25,
   "id": "d288dc77-7f73-4aad-990e-7a237beeb01f",
   "metadata": {},
   "outputs": [
    {
     "name": "stdout",
     "output_type": "stream",
     "text": [
      "P\n",
      "y\n",
      "n\n"
     ]
    }
   ],
   "source": [
    "language = 'Python'\n",
    "first_letter = language[0]\n",
    "print(first_letter) \n",
    "second_letter = language[1]\n",
    "print(second_letter) \n",
    "last_index = len(language) - 1\n",
    "last_letter = language[last_index]\n",
    "print(last_letter) "
   ]
  },
  {
   "cell_type": "code",
   "execution_count": 27,
   "id": "68a7f49b-c8ab-4157-9b6b-99526d11ada1",
   "metadata": {},
   "outputs": [
    {
     "name": "stdout",
     "output_type": "stream",
     "text": [
      "n\n",
      "o\n"
     ]
    }
   ],
   "source": [
    "language = 'Python'\n",
    "last_letter = language[-1]\n",
    "print(last_letter) \n",
    "second_last = language[-2]\n",
    "print(second_last) "
   ]
  },
  {
   "cell_type": "markdown",
   "id": "e446288c-da46-4bdf-8fa2-5dbdeb375abf",
   "metadata": {},
   "source": [
    "# Slicing"
   ]
  },
  {
   "cell_type": "code",
   "execution_count": 30,
   "id": "38ffb2cc-d68d-443f-8008-7dc90a8d6851",
   "metadata": {},
   "outputs": [
    {
     "name": "stdout",
     "output_type": "stream",
     "text": [
      "hon\n"
     ]
    }
   ],
   "source": [
    "language = 'Python'\n",
    "first_three = language[0:3]  \n",
    "last_three = language[3:6]\n",
    "print(last_three) "
   ]
  },
  {
   "cell_type": "code",
   "execution_count": 32,
   "id": "cec068c2-ffdd-4b1e-949f-3506bb383a8f",
   "metadata": {},
   "outputs": [
    {
     "name": "stdout",
     "output_type": "stream",
     "text": [
      "hon\n",
      "hon\n"
     ]
    }
   ],
   "source": [
    "last_three = language[-3:]\n",
    "print(last_three)   \n",
    "last_three = language[3:]\n",
    "print(last_three)"
   ]
  },
  {
   "cell_type": "markdown",
   "id": "75b67f36-d995-4b11-beff-e2ed572b66c1",
   "metadata": {},
   "source": [
    "# Skipping character while splitting Python strings"
   ]
  },
  {
   "cell_type": "code",
   "execution_count": 35,
   "id": "fd54da36-62ed-4fab-bce2-f58a6d89fada",
   "metadata": {},
   "outputs": [
    {
     "name": "stdout",
     "output_type": "stream",
     "text": [
      "Pto\n"
     ]
    }
   ],
   "source": [
    "language = 'Python'\n",
    "pto = language[0:6:2] \n",
    "print(pto) "
   ]
  },
  {
   "cell_type": "markdown",
   "id": "47afac17-faae-462e-9099-8ce3f21ca185",
   "metadata": {},
   "source": [
    "# Escape sequence"
   ]
  },
  {
   "cell_type": "code",
   "execution_count": 39,
   "id": "0f014f9c-7716-43de-8806-9ee588936463",
   "metadata": {},
   "outputs": [
    {
     "name": "stdout",
     "output_type": "stream",
     "text": [
      "I hope every one enjoying the python challenge.\n",
      "Do you ?\n",
      "Days\tTopics\tExercises\n",
      "Day 1\t3\t5\n",
      "Day 2\t3\t5\n",
      "Day 3\t3\t5\n",
      "Day 4\t3\t5\n",
      "This is a back slash  symbol (\\)\n",
      "In every programming language it starts with \"Hello, World!\"\n"
     ]
    }
   ],
   "source": [
    "print('I hope every one enjoying the python challenge.\\nDo you ?') \n",
    "print('Days\\tTopics\\tExercises')\n",
    "print('Day 1\\t3\\t5')\n",
    "print('Day 2\\t3\\t5')\n",
    "print('Day 3\\t3\\t5')\n",
    "print('Day 4\\t3\\t5')\n",
    "print('This is a back slash  symbol (\\\\)') \n",
    "print('In every programming language it starts with \\\"Hello, World!\\\"')"
   ]
  },
  {
   "cell_type": "code",
   "execution_count": 41,
   "id": "80740c37-73ee-4cb3-9d74-10084de31d6a",
   "metadata": {},
   "outputs": [
    {
     "name": "stdout",
     "output_type": "stream",
     "text": [
      "Thirty days of python\n"
     ]
    }
   ],
   "source": [
    "challenge = 'thirty days of python'\n",
    "print(challenge.capitalize())"
   ]
  },
  {
   "cell_type": "code",
   "execution_count": 43,
   "id": "6966e1e9-09cb-4ead-9612-1a8d9c604740",
   "metadata": {},
   "outputs": [
    {
     "name": "stdout",
     "output_type": "stream",
     "text": [
      "3\n",
      "1\n",
      "2\n"
     ]
    }
   ],
   "source": [
    "challenge = 'thirty days of python'\n",
    "print(challenge.count('y')) \n",
    "print(challenge.count('y', 7, 14)) \n",
    "print(challenge.count('th'))"
   ]
  },
  {
   "cell_type": "code",
   "execution_count": 45,
   "id": "d8853316-3032-467f-9294-b4e869162c6c",
   "metadata": {},
   "outputs": [
    {
     "name": "stdout",
     "output_type": "stream",
     "text": [
      "True\n",
      "False\n"
     ]
    }
   ],
   "source": [
    "challenge = 'thirty days of python'\n",
    "print(challenge.endswith('on'))   \n",
    "print(challenge.endswith('tion')) "
   ]
  },
  {
   "cell_type": "code",
   "execution_count": 47,
   "id": "6bececd3-8eee-4ee2-848f-29f9780cd931",
   "metadata": {},
   "outputs": [
    {
     "name": "stdout",
     "output_type": "stream",
     "text": [
      "thirty  days    of      python\n",
      "thirty    days      of        python\n"
     ]
    }
   ],
   "source": [
    "challenge = 'thirty\\tdays\\tof\\tpython'\n",
    "print(challenge.expandtabs())\n",
    "print(challenge.expandtabs(10))"
   ]
  },
  {
   "cell_type": "code",
   "execution_count": 49,
   "id": "35240b81-c4e1-4ff9-9e73-35b8601d03f9",
   "metadata": {},
   "outputs": [
    {
     "name": "stdout",
     "output_type": "stream",
     "text": [
      "5\n",
      "0\n"
     ]
    }
   ],
   "source": [
    "\n",
    "challenge = 'thirty days of python'\n",
    "print(challenge.find('y'))  \n",
    "print(challenge.find('th')) "
   ]
  },
  {
   "cell_type": "code",
   "execution_count": 51,
   "id": "19e57aaa-0c0b-4fbf-893e-73ee071c1d7c",
   "metadata": {},
   "outputs": [
    {
     "name": "stdout",
     "output_type": "stream",
     "text": [
      "I am Asabeneh Yetayeh. I am a teacher. I live in Finland.\n"
     ]
    }
   ],
   "source": [
    "first_name = 'Asabeneh'\n",
    "last_name = 'Yetayeh'\n",
    "job = 'teacher'\n",
    "country = 'Finland'\n",
    "sentence = 'I am {} {}. I am a {}. I live in {}.'.format(first_name, last_name, job, country)\n",
    "print(sentence)"
   ]
  },
  {
   "cell_type": "code",
   "execution_count": 53,
   "id": "989c8030-390f-4cb9-b35f-d11231dfc140",
   "metadata": {},
   "outputs": [
    {
     "name": "stdout",
     "output_type": "stream",
     "text": [
      "The area of circle with 10 is 3.14\n"
     ]
    }
   ],
   "source": [
    "radius = 10\n",
    "pi = 3.14\n",
    "area = pi  \n",
    "result = 'The area of circle with {} is {}'.format(str(radius), str(area))\n",
    "print(result)"
   ]
  },
  {
   "cell_type": "code",
   "execution_count": 55,
   "id": "2f29058a-8d52-4d95-870a-9644d56b7cc4",
   "metadata": {},
   "outputs": [
    {
     "name": "stdout",
     "output_type": "stream",
     "text": [
      "5\n",
      "0\n"
     ]
    }
   ],
   "source": [
    "challenge = 'thirty days of python'\n",
    "print(challenge.find('y'))  \n",
    "print(challenge.find('th'))"
   ]
  },
  {
   "cell_type": "code",
   "execution_count": 57,
   "id": "b958763d-3a38-4b52-9ba9-db5daa2560e5",
   "metadata": {},
   "outputs": [
    {
     "name": "stdout",
     "output_type": "stream",
     "text": [
      "True\n"
     ]
    }
   ],
   "source": [
    "challenge = 'ThirtyDaysPython'\n",
    "print(challenge.isalnum())"
   ]
  },
  {
   "cell_type": "code",
   "execution_count": 59,
   "id": "a8c05b65-b14b-4681-a7a4-5b65441349e2",
   "metadata": {},
   "outputs": [
    {
     "name": "stdout",
     "output_type": "stream",
     "text": [
      "True\n"
     ]
    }
   ],
   "source": [
    "challenge = '30DaysPython'\n",
    "print(challenge.isalnum())"
   ]
  },
  {
   "cell_type": "code",
   "execution_count": 61,
   "id": "96d25981-1694-4257-b728-baa4b75cabaf",
   "metadata": {},
   "outputs": [
    {
     "name": "stdout",
     "output_type": "stream",
     "text": [
      "False\n"
     ]
    }
   ],
   "source": [
    "challenge = 'thirty days of python'\n",
    "print(challenge.isalnum()) "
   ]
  },
  {
   "cell_type": "code",
   "execution_count": 63,
   "id": "36934df0-9103-4081-92da-0bd70b692453",
   "metadata": {},
   "outputs": [
    {
     "name": "stdout",
     "output_type": "stream",
     "text": [
      "False\n"
     ]
    }
   ],
   "source": [
    "challenge = 'thirty days of python 2019'\n",
    "print(challenge.isalnum()) "
   ]
  },
  {
   "cell_type": "code",
   "execution_count": 65,
   "id": "09daa8b9-587d-43b5-9cc7-8f2f821777cf",
   "metadata": {},
   "outputs": [
    {
     "name": "stdout",
     "output_type": "stream",
     "text": [
      "False\n",
      "False\n"
     ]
    }
   ],
   "source": [
    "challenge = 'thirty days of python'\n",
    "print(challenge.isalpha()) \n",
    "num = '123'\n",
    "print(num.isalpha())  "
   ]
  },
  {
   "cell_type": "code",
   "execution_count": 67,
   "id": "15aa3ab1-17dd-4888-9f2e-69a66fdb96eb",
   "metadata": {},
   "outputs": [
    {
     "name": "stdout",
     "output_type": "stream",
     "text": [
      "5\n",
      "0\n"
     ]
    }
   ],
   "source": [
    "challenge = 'thirty days of python'\n",
    "print(challenge.find('y')) \n",
    "print(challenge.find('th')) "
   ]
  },
  {
   "cell_type": "code",
   "execution_count": 71,
   "id": "266c1f4e-8c0d-4420-abe8-c00630f21228",
   "metadata": {},
   "outputs": [
    {
     "name": "stdout",
     "output_type": "stream",
     "text": [
      "False\n",
      "True\n"
     ]
    }
   ],
   "source": [
    "challenge = 'Thirty'\n",
    "print(challenge.isdigit()) \n",
    "challenge = '30'\n",
    "print(challenge.isdigit()) "
   ]
  },
  {
   "cell_type": "code",
   "execution_count": 73,
   "id": "dfb785b9-9fbc-46af-9a42-c9e675dab716",
   "metadata": {},
   "outputs": [
    {
     "name": "stdout",
     "output_type": "stream",
     "text": [
      "True\n",
      "False\n"
     ]
    }
   ],
   "source": [
    "num = '10'\n",
    "print(num.isdecimal())  \n",
    "num = '10.5'\n",
    "print(num.isdecimal()) "
   ]
  },
  {
   "cell_type": "code",
   "execution_count": 75,
   "id": "0f5e4afd-2cdf-4f9d-af98-04aea13ea7a8",
   "metadata": {},
   "outputs": [
    {
     "name": "stdout",
     "output_type": "stream",
     "text": [
      "False\n",
      "True\n"
     ]
    }
   ],
   "source": [
    "challenge = '30DaysOfPython'\n",
    "print(challenge.isidentifier())  \n",
    "challenge = 'thirty_days_of_python'\n",
    "print(challenge.isidentifier())"
   ]
  },
  {
   "cell_type": "code",
   "execution_count": 77,
   "id": "1cc01c52-9def-4110-a177-a30c9659d3c8",
   "metadata": {},
   "outputs": [
    {
     "name": "stdout",
     "output_type": "stream",
     "text": [
      "True\n",
      "False\n"
     ]
    }
   ],
   "source": [
    "challenge = 'thirty days of python'\n",
    "print(challenge.islower()) \n",
    "challenge = 'Thirty days of python'\n",
    "print(challenge.islower()) "
   ]
  },
  {
   "cell_type": "code",
   "execution_count": 79,
   "id": "fd10b062-d8f0-4cc8-84d5-9435700a828d",
   "metadata": {},
   "outputs": [
    {
     "name": "stdout",
     "output_type": "stream",
     "text": [
      "False\n",
      "True\n"
     ]
    }
   ],
   "source": [
    "challenge = 'thirty days of python'\n",
    "print(challenge.isupper())  \n",
    "challenge = 'THIRTY DAYS OF PYTHON'\n",
    "print(challenge.isupper()) "
   ]
  },
  {
   "cell_type": "code",
   "execution_count": 81,
   "id": "69c9fe52-2f86-49fc-9335-e0a0f43dcc97",
   "metadata": {},
   "outputs": [
    {
     "name": "stdout",
     "output_type": "stream",
     "text": [
      "True\n",
      "False\n"
     ]
    }
   ],
   "source": [
    "num = '10'\n",
    "print(num.isnumeric())       \n",
    "print('ten'.isnumeric()) "
   ]
  },
  {
   "cell_type": "code",
   "execution_count": 83,
   "id": "50a152e1-86e9-4f51-b6a4-c3ef9e1255d9",
   "metadata": {},
   "outputs": [
    {
     "name": "stdout",
     "output_type": "stream",
     "text": [
      "HTML#, CSS#, JavaScript#, React\n"
     ]
    }
   ],
   "source": [
    "web_tech = ['HTML', 'CSS', 'JavaScript', 'React']\n",
    "result = '#, '.join(web_tech)\n",
    "print(result) "
   ]
  },
  {
   "cell_type": "code",
   "execution_count": 85,
   "id": "843a2352-dbf3-43dc-bfd4-d588e6ef894f",
   "metadata": {},
   "outputs": [
    {
     "name": "stdout",
     "output_type": "stream",
     "text": [
      " thirty days of python \n"
     ]
    }
   ],
   "source": [
    "challenge = ' thirty days of python '\n",
    "print(challenge.strip('y')) "
   ]
  },
  {
   "cell_type": "code",
   "execution_count": 87,
   "id": "e84b0b23-1d00-4977-a183-6d9fa0572e03",
   "metadata": {},
   "outputs": [
    {
     "name": "stdout",
     "output_type": "stream",
     "text": [
      "thirty days of coding\n"
     ]
    }
   ],
   "source": [
    "challenge = 'thirty days of python'\n",
    "print(challenge.replace('python', 'coding'))"
   ]
  },
  {
   "cell_type": "code",
   "execution_count": 89,
   "id": "60e64b40-2774-459f-aacb-bfa33c33d11f",
   "metadata": {},
   "outputs": [
    {
     "name": "stdout",
     "output_type": "stream",
     "text": [
      "['thirty', 'days', 'of', 'python']\n"
     ]
    }
   ],
   "source": [
    "challenge = 'thirty days of python'\n",
    "print(challenge.split()) "
   ]
  },
  {
   "cell_type": "code",
   "execution_count": null,
   "id": "0fec0a75-4466-4057-92ae-9d06053476be",
   "metadata": {},
   "outputs": [],
   "source": []
  }
 ],
 "metadata": {
  "kernelspec": {
   "display_name": "Python 3 (ipykernel)",
   "language": "python",
   "name": "python3"
  },
  "language_info": {
   "codemirror_mode": {
    "name": "ipython",
    "version": 3
   },
   "file_extension": ".py",
   "mimetype": "text/x-python",
   "name": "python",
   "nbconvert_exporter": "python",
   "pygments_lexer": "ipython3",
   "version": "3.12.7"
  }
 },
 "nbformat": 4,
 "nbformat_minor": 5
}
