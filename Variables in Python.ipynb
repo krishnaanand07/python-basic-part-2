{
 "cells": [
  {
   "cell_type": "markdown",
   "id": "70a986a3-3fce-435c-b551-fc350589594b",
   "metadata": {},
   "source": [
    "# Variables in Python"
   ]
  },
  {
   "cell_type": "code",
   "execution_count": 1,
   "id": "cbce0689-6548-4441-9749-f9fbd1a6793c",
   "metadata": {},
   "outputs": [],
   "source": [
    "first_name = 'KRISHNA'\n",
    "last_name = 'ANAND'\n",
    "country = 'HYD'\n",
    "city = 'TELENGANA'\n",
    "age = 20\n",
    "is_married = False\n",
    "skills = ['HTML', 'CSS', 'JS', 'React', 'Python']\n",
    "person_info = {\n",
    "    'firstname':'Asabeneh', \n",
    "    'lastname':'Yetayeh', \n",
    "    'country':'Finland',\n",
    "    'city':'Helsinki'\n",
    "    }"
   ]
  },
  {
   "cell_type": "code",
   "execution_count": 3,
   "id": "4fa0c5fe-9c36-4a30-9ba5-7c88dce68c05",
   "metadata": {},
   "outputs": [
    {
     "name": "stdout",
     "output_type": "stream",
     "text": [
      "First name: KRISHNA\n"
     ]
    }
   ],
   "source": [
    "print('First name:', first_name)"
   ]
  },
  {
   "cell_type": "code",
   "execution_count": 5,
   "id": "50c4b7a8-947d-4c9d-9f13-9c6a472b0ac4",
   "metadata": {},
   "outputs": [
    {
     "name": "stdout",
     "output_type": "stream",
     "text": [
      "First name length: 7\n"
     ]
    }
   ],
   "source": [
    "print('First name length:', len(first_name))\n",
    " "
   ]
  },
  {
   "cell_type": "code",
   "execution_count": 7,
   "id": "f7929201-0c83-47e0-a63b-b4f77cca5525",
   "metadata": {},
   "outputs": [
    {
     "name": "stdout",
     "output_type": "stream",
     "text": [
      "Last name:  ANAND\n"
     ]
    }
   ],
   "source": [
    "print('Last name: ', last_name)\n",
    " "
   ]
  },
  {
   "cell_type": "code",
   "execution_count": 9,
   "id": "337b1715-4b23-4d22-b181-fa4b6a4efad2",
   "metadata": {},
   "outputs": [
    {
     "name": "stdout",
     "output_type": "stream",
     "text": [
      "Last name length:  5\n"
     ]
    }
   ],
   "source": [
    "print('Last name length: ', len(last_name))\n",
    " "
   ]
  },
  {
   "cell_type": "code",
   "execution_count": 11,
   "id": "1f0cc2c4-f1e6-43a4-b55d-969518b8bf63",
   "metadata": {},
   "outputs": [
    {
     "name": "stdout",
     "output_type": "stream",
     "text": [
      "Country:  HYD\n"
     ]
    }
   ],
   "source": [
    "print('Country: ', country)\n",
    " "
   ]
  },
  {
   "cell_type": "code",
   "execution_count": 13,
   "id": "e6fc1321-c176-40ff-9356-99bcb71d0603",
   "metadata": {},
   "outputs": [
    {
     "name": "stdout",
     "output_type": "stream",
     "text": [
      "City:  TELENGANA\n"
     ]
    }
   ],
   "source": [
    "print('City: ', city)\n",
    " "
   ]
  },
  {
   "cell_type": "code",
   "execution_count": 17,
   "id": "b525ac1f-5009-4017-9841-c07e17e9a387",
   "metadata": {},
   "outputs": [
    {
     "name": "stdout",
     "output_type": "stream",
     "text": [
      "Age:  20\n"
     ]
    }
   ],
   "source": [
    "print('Age: ', age)\n",
    " "
   ]
  },
  {
   "cell_type": "code",
   "execution_count": 19,
   "id": "c2d0e07b-7f05-4fbc-8aa1-c8a6d3c27bd2",
   "metadata": {},
   "outputs": [
    {
     "name": "stdout",
     "output_type": "stream",
     "text": [
      "Married:  False\n"
     ]
    }
   ],
   "source": [
    "print('Married: ', is_married)\n",
    " "
   ]
  },
  {
   "cell_type": "code",
   "execution_count": 21,
   "id": "ec8bf5c5-8882-49a7-82b2-b19d06b7284f",
   "metadata": {},
   "outputs": [
    {
     "name": "stdout",
     "output_type": "stream",
     "text": [
      "Skills:  ['HTML', 'CSS', 'JS', 'React', 'Python']\n"
     ]
    }
   ],
   "source": [
    "print('Skills: ', skills)\n",
    " "
   ]
  },
  {
   "cell_type": "code",
   "execution_count": 23,
   "id": "6cae24e5-b07a-46f0-a91a-306adf84ba26",
   "metadata": {},
   "outputs": [
    {
     "name": "stdout",
     "output_type": "stream",
     "text": [
      "Person information:  {'firstname': 'Asabeneh', 'lastname': 'Yetayeh', 'country': 'Finland', 'city': 'Helsinki'}\n"
     ]
    }
   ],
   "source": [
    "print('Person information: ', person_info)"
   ]
  },
  {
   "cell_type": "code",
   "execution_count": null,
   "id": "84c06667-7cbc-4a58-b3f7-48b5d0a5ce03",
   "metadata": {},
   "outputs": [],
   "source": []
  }
 ],
 "metadata": {
  "kernelspec": {
   "display_name": "Python 3 (ipykernel)",
   "language": "python",
   "name": "python3"
  },
  "language_info": {
   "codemirror_mode": {
    "name": "ipython",
    "version": 3
   },
   "file_extension": ".py",
   "mimetype": "text/x-python",
   "name": "python",
   "nbconvert_exporter": "python",
   "pygments_lexer": "ipython3",
   "version": "3.12.7"
  }
 },
 "nbformat": 4,
 "nbformat_minor": 5
}
