{
 "cells": [
  {
   "cell_type": "markdown",
   "id": "9635bb78-431e-4fcb-8ea3-19f5b68591e3",
   "metadata": {},
   "source": [
    "# Arithmetic Operations in Python\n"
   ]
  },
  {
   "cell_type": "markdown",
   "id": "fabffabc-ea29-428d-a3f4-c1ebbfcc7b26",
   "metadata": {},
   "source": [
    "# Integers"
   ]
  },
  {
   "cell_type": "code",
   "execution_count": 3,
   "id": "9bfb4b3d-0837-4df3-b9de-1876c3f267be",
   "metadata": {},
   "outputs": [
    {
     "name": "stdout",
     "output_type": "stream",
     "text": [
      "Addition:  3\n"
     ]
    }
   ],
   "source": [
    "print('Addition: ', 1 + 2)\n",
    " "
   ]
  },
  {
   "cell_type": "code",
   "execution_count": 5,
   "id": "ffebab64-2c35-4736-acfa-c5aace6fbf77",
   "metadata": {},
   "outputs": [
    {
     "name": "stdout",
     "output_type": "stream",
     "text": [
      "Subtraction:  1\n"
     ]
    }
   ],
   "source": [
    "print('Subtraction: ', 2 - 1)\n",
    "\n"
   ]
  },
  {
   "cell_type": "code",
   "execution_count": 7,
   "id": "86569a47-66c1-46f3-8eea-d0bb6e5dece4",
   "metadata": {},
   "outputs": [
    {
     "name": "stdout",
     "output_type": "stream",
     "text": [
      "Multiplication:  6\n"
     ]
    }
   ],
   "source": [
    "print('Multiplication: ', 2 * 3)\n",
    "\n"
   ]
  },
  {
   "cell_type": "code",
   "execution_count": 9,
   "id": "3565aeb2-e56c-4681-8795-a12c90978288",
   "metadata": {},
   "outputs": [
    {
     "name": "stdout",
     "output_type": "stream",
     "text": [
      "Division:  2.0\n"
     ]
    }
   ],
   "source": [
    "print ('Division: ', 4 / 2)                          \n",
    "\n"
   ]
  },
  {
   "cell_type": "code",
   "execution_count": 11,
   "id": "8616738e-38aa-4d0a-8aba-2623489b1172",
   "metadata": {},
   "outputs": [
    {
     "name": "stdout",
     "output_type": "stream",
     "text": [
      "Division:  3.0\n"
     ]
    }
   ],
   "source": [
    "print('Division: ', 6 / 2)\n",
    "\n"
   ]
  },
  {
   "cell_type": "code",
   "execution_count": 13,
   "id": "24f35c88-38c1-42af-8901-bd831306d076",
   "metadata": {},
   "outputs": [
    {
     "name": "stdout",
     "output_type": "stream",
     "text": [
      "Division:  3.5\n"
     ]
    }
   ],
   "source": [
    "print('Division: ', 7 / 2)\n",
    "\n"
   ]
  },
  {
   "cell_type": "code",
   "execution_count": 15,
   "id": "5a953c3b-0b22-44c0-a8ed-33c3945a5bdc",
   "metadata": {},
   "outputs": [
    {
     "name": "stdout",
     "output_type": "stream",
     "text": [
      "Division without the remainder:  3\n"
     ]
    }
   ],
   "source": [
    "print('Division without the remainder: ', 7 // 2)    \n"
   ]
  },
  {
   "cell_type": "code",
   "execution_count": 19,
   "id": "c0993338-5e5f-4493-a584-3b226a529470",
   "metadata": {},
   "outputs": [
    {
     "name": "stdout",
     "output_type": "stream",
     "text": [
      "Modulus:  1\n"
     ]
    }
   ],
   "source": [
    "print('Modulus: ', 3 % 2)                          \n",
    "\n"
   ]
  },
  {
   "cell_type": "code",
   "execution_count": 21,
   "id": "51fff745-5922-408e-b488-280bf51c4761",
   "metadata": {},
   "outputs": [
    {
     "name": "stdout",
     "output_type": "stream",
     "text": [
      "Division without the remainder:  2\n"
     ]
    }
   ],
   "source": [
    "print ('Division without the remainder: ', 7 // 3)\n",
    " "
   ]
  },
  {
   "cell_type": "code",
   "execution_count": 23,
   "id": "dcdaa139-3104-4311-8e65-ea5f78f951ab",
   "metadata": {},
   "outputs": [
    {
     "name": "stdout",
     "output_type": "stream",
     "text": [
      "Exponential:  9\n"
     ]
    }
   ],
   "source": [
    "print('Exponential: ', 3 ** 2) "
   ]
  },
  {
   "cell_type": "markdown",
   "id": "7f7dc676-afaa-4257-a2e3-facfaaa3e30e",
   "metadata": {},
   "source": [
    "# Floating numbers"
   ]
  },
  {
   "cell_type": "code",
   "execution_count": 28,
   "id": "49de149b-10e5-4d25-aff1-1787d75320b4",
   "metadata": {},
   "outputs": [
    {
     "name": "stdout",
     "output_type": "stream",
     "text": [
      "Floating Number,PI 3.14\n"
     ]
    }
   ],
   "source": [
    "print('Floating Number,PI', 3.14)\n",
    "\n"
   ]
  },
  {
   "cell_type": "code",
   "execution_count": 30,
   "id": "0d3b92c1-ed91-44b8-9ee0-5acfc2fedcaf",
   "metadata": {},
   "outputs": [
    {
     "name": "stdout",
     "output_type": "stream",
     "text": [
      "Floating Number, gravity 9.81\n"
     ]
    }
   ],
   "source": [
    "print('Floating Number, gravity', 9.81)"
   ]
  },
  {
   "cell_type": "markdown",
   "id": "4fa1246a-fc3d-48bb-b3cf-fb2d23c507ae",
   "metadata": {},
   "source": [
    "# Complex numbers"
   ]
  },
  {
   "cell_type": "code",
   "execution_count": 33,
   "id": "2825c633-3f82-4b52-bd05-00d208856935",
   "metadata": {},
   "outputs": [
    {
     "name": "stdout",
     "output_type": "stream",
     "text": [
      "Complex number:  (1+1j)\n"
     ]
    }
   ],
   "source": [
    "print('Complex number: ', 1 + 1j)\n",
    "\n"
   ]
  },
  {
   "cell_type": "code",
   "execution_count": 35,
   "id": "adff01f7-37c0-4714-b77d-c506cf52f17a",
   "metadata": {},
   "outputs": [
    {
     "name": "stdout",
     "output_type": "stream",
     "text": [
      "Multiplying complex number:  (2+0j)\n"
     ]
    }
   ],
   "source": [
    "print('Multiplying complex number: ',(1 + 1j) * (1-1j))"
   ]
  },
  {
   "cell_type": "markdown",
   "id": "e2495fe4-5ebd-4c9f-8eba-d6228c5fa340",
   "metadata": {},
   "source": [
    "# Arithmetic operations and assigning the result to a variable"
   ]
  },
  {
   "cell_type": "code",
   "execution_count": 38,
   "id": "9264a192-513c-4781-9795-701ba8cf16e2",
   "metadata": {},
   "outputs": [],
   "source": [
    "a=3\n",
    "b=2\n"
   ]
  },
  {
   "cell_type": "code",
   "execution_count": 44,
   "id": "cffa942f-0e78-4b21-8b54-2a5a83717d7d",
   "metadata": {},
   "outputs": [],
   "source": [
    "diff = a - b\n",
    "product = a * b\n",
    "division = a / b\n",
    "remainder = a % b\n",
    "floor_division = a // b\n",
    "exponential = a ** b\n"
   ]
  },
  {
   "cell_type": "code",
   "execution_count": 46,
   "id": "b5c99c4f-c275-4e1d-a043-7f398fad59c1",
   "metadata": {},
   "outputs": [
    {
     "name": "stdout",
     "output_type": "stream",
     "text": [
      "5\n"
     ]
    }
   ],
   "source": [
    "print(total)"
   ]
  },
  {
   "cell_type": "code",
   "execution_count": 48,
   "id": "5fbb415f-9f19-4821-a702-5f90a4a4caf9",
   "metadata": {},
   "outputs": [
    {
     "name": "stdout",
     "output_type": "stream",
     "text": [
      "a + b =  5\n"
     ]
    }
   ],
   "source": [
    "print('a + b = ', total)\n"
   ]
  },
  {
   "cell_type": "code",
   "execution_count": 50,
   "id": "00b72f3f-7932-402b-851c-fecaad45681f",
   "metadata": {},
   "outputs": [
    {
     "name": "stdout",
     "output_type": "stream",
     "text": [
      "a - b =  1\n"
     ]
    }
   ],
   "source": [
    "print('a - b = ', diff)\n"
   ]
  },
  {
   "cell_type": "code",
   "execution_count": 52,
   "id": "8c5e5486-ecbb-436d-834b-87b59cee327e",
   "metadata": {},
   "outputs": [
    {
     "name": "stdout",
     "output_type": "stream",
     "text": [
      "a * b =  6\n"
     ]
    }
   ],
   "source": [
    "print('a * b = ', product)\n"
   ]
  },
  {
   "cell_type": "code",
   "execution_count": 54,
   "id": "4fab0add-da2f-4f7a-90e6-7624623f1dca",
   "metadata": {},
   "outputs": [
    {
     "name": "stdout",
     "output_type": "stream",
     "text": [
      "a / b =  1.5\n"
     ]
    }
   ],
   "source": [
    "print('a / b = ', division)\n"
   ]
  },
  {
   "cell_type": "code",
   "execution_count": 56,
   "id": "0126caa3-4fe1-412d-8232-ea70eaba4f20",
   "metadata": {},
   "outputs": [
    {
     "name": "stdout",
     "output_type": "stream",
     "text": [
      "a % b =  1\n"
     ]
    }
   ],
   "source": [
    "print('a % b = ', remainder)\n"
   ]
  },
  {
   "cell_type": "code",
   "execution_count": 58,
   "id": "e9f43505-b027-4239-b9ab-11f913e962b5",
   "metadata": {},
   "outputs": [
    {
     "name": "stdout",
     "output_type": "stream",
     "text": [
      "a // b =  1\n"
     ]
    }
   ],
   "source": [
    "print('a // b = ', floor_division)\n"
   ]
  },
  {
   "cell_type": "code",
   "execution_count": 60,
   "id": "9d22c0cc-0ab4-4c4c-bddf-aa125f1ecc6a",
   "metadata": {},
   "outputs": [
    {
     "name": "stdout",
     "output_type": "stream",
     "text": [
      "a ** b =  9\n"
     ]
    }
   ],
   "source": [
    "print('a ** b = ', exponential)"
   ]
  },
  {
   "cell_type": "markdown",
   "id": "2a1ad68f-075a-4fd0-b7f3-9d071e41242e",
   "metadata": {},
   "source": [
    "# Declaring values and organizing them together"
   ]
  },
  {
   "cell_type": "code",
   "execution_count": 63,
   "id": "d5157898-e3f8-4cf9-b6cd-4f5d4dd4fbd2",
   "metadata": {},
   "outputs": [],
   "source": [
    "num_one = 3\n",
    "num_two = 4"
   ]
  },
  {
   "cell_type": "markdown",
   "id": "83d40ed7-8574-4712-b0f8-95974e1555c2",
   "metadata": {},
   "source": [
    "# Arithmetic operations"
   ]
  },
  {
   "cell_type": "code",
   "execution_count": 66,
   "id": "24ccb97e-8f82-4595-ba9d-1f5e45819c51",
   "metadata": {},
   "outputs": [],
   "source": [
    "total = num_one + num_two\n",
    "diff = num_two - num_one\n",
    "product = num_one * num_two\n",
    "div = num_two / num_two\n",
    "remainder = num_two % num_one"
   ]
  },
  {
   "cell_type": "code",
   "execution_count": 68,
   "id": "5ca72111-8bbc-45a0-8962-d3c8d2a1d321",
   "metadata": {},
   "outputs": [
    {
     "name": "stdout",
     "output_type": "stream",
     "text": [
      "total:  7\n"
     ]
    }
   ],
   "source": [
    "print('total: ', total)\n"
   ]
  },
  {
   "cell_type": "code",
   "execution_count": 70,
   "id": "56145e10-e44e-4611-ab62-b80d9371c311",
   "metadata": {},
   "outputs": [
    {
     "name": "stdout",
     "output_type": "stream",
     "text": [
      "difference:  1\n"
     ]
    }
   ],
   "source": [
    "print('difference: ', diff)\n"
   ]
  },
  {
   "cell_type": "code",
   "execution_count": 72,
   "id": "58f9bd6a-13e9-4ca2-9b58-29d84a3e6319",
   "metadata": {},
   "outputs": [
    {
     "name": "stdout",
     "output_type": "stream",
     "text": [
      "product:  12\n"
     ]
    }
   ],
   "source": [
    "print('product: ', product)\n"
   ]
  },
  {
   "cell_type": "code",
   "execution_count": 74,
   "id": "4f7ee24b-8aeb-4051-afb9-e79d21c9a2bb",
   "metadata": {},
   "outputs": [
    {
     "name": "stdout",
     "output_type": "stream",
     "text": [
      "division:  1.0\n"
     ]
    }
   ],
   "source": [
    "print('division: ', div)\n"
   ]
  },
  {
   "cell_type": "code",
   "execution_count": 76,
   "id": "001eec66-64c4-4078-b748-81a562d66675",
   "metadata": {},
   "outputs": [
    {
     "name": "stdout",
     "output_type": "stream",
     "text": [
      "remainder:  1\n"
     ]
    }
   ],
   "source": [
    "print('remainder: ', remainder)"
   ]
  },
  {
   "cell_type": "markdown",
   "id": "645cd395-c329-45f6-8a51-b9d6f7a1dda1",
   "metadata": {},
   "source": [
    "# Calculating area of a circle"
   ]
  },
  {
   "cell_type": "code",
   "execution_count": 79,
   "id": "092d255f-9bf9-4873-97db-028c689ebd27",
   "metadata": {},
   "outputs": [
    {
     "name": "stdout",
     "output_type": "stream",
     "text": [
      "Area of a circle: 314.0\n"
     ]
    }
   ],
   "source": [
    "radius = 10                                  \n",
    "area_of_circle = 3.14 * radius ** 2         \n",
    "print('Area of a circle:', area_of_circle)"
   ]
  },
  {
   "cell_type": "markdown",
   "id": "2b6a48ff-8f7b-49d5-a14f-1f566bbc2c56",
   "metadata": {},
   "source": [
    "# Calculating area of a rectangle"
   ]
  },
  {
   "cell_type": "code",
   "execution_count": 82,
   "id": "6e222628-8fb9-4338-8352-20827048f7c4",
   "metadata": {},
   "outputs": [
    {
     "name": "stdout",
     "output_type": "stream",
     "text": [
      "Area of rectangle: 200\n"
     ]
    }
   ],
   "source": [
    "length = 10\n",
    "width = 20\n",
    "area_of_rectangle = length * width\n",
    "print('Area of rectangle:', area_of_rectangle)"
   ]
  },
  {
   "cell_type": "markdown",
   "id": "d709f52f-9bfe-434b-9d48-dd77242f688b",
   "metadata": {},
   "source": [
    "# Calculating a weight of an object"
   ]
  },
  {
   "cell_type": "code",
   "execution_count": 85,
   "id": "768ee154-a978-412c-855a-846db8c9b501",
   "metadata": {},
   "outputs": [
    {
     "name": "stdout",
     "output_type": "stream",
     "text": [
      "735.75 N\n"
     ]
    }
   ],
   "source": [
    "mass = 75\n",
    "gravity = 9.81\n",
    "weight = mass * gravity\n",
    "print(weight, 'N')"
   ]
  },
  {
   "cell_type": "markdown",
   "id": "5cf1d69e-57f3-4292-b074-aba9f35991e2",
   "metadata": {},
   "source": [
    "# relation Operations"
   ]
  },
  {
   "cell_type": "code",
   "execution_count": 87,
   "id": "b0b52286-365b-42a0-b873-c7278e30f6c0",
   "metadata": {},
   "outputs": [
    {
     "name": "stdout",
     "output_type": "stream",
     "text": [
      "True\n"
     ]
    }
   ],
   "source": [
    "print(3 > 2)     \n",
    "\n",
    " "
   ]
  },
  {
   "cell_type": "code",
   "execution_count": 89,
   "id": "7e3a8cda-209c-4498-86a8-270386d4ccef",
   "metadata": {},
   "outputs": [
    {
     "name": "stdout",
     "output_type": "stream",
     "text": [
      "True\n"
     ]
    }
   ],
   "source": [
    "print(3 >= 2)     \n",
    "\n"
   ]
  },
  {
   "cell_type": "code",
   "execution_count": 91,
   "id": "09ee6393-ddc4-4697-8156-332f9df0b70b",
   "metadata": {},
   "outputs": [
    {
     "name": "stdout",
     "output_type": "stream",
     "text": [
      "False\n"
     ]
    }
   ],
   "source": [
    "print(3 < 2) \n"
   ]
  },
  {
   "cell_type": "code",
   "execution_count": 93,
   "id": "5bffe70b-1418-45b2-9407-cc33af015b86",
   "metadata": {},
   "outputs": [
    {
     "name": "stdout",
     "output_type": "stream",
     "text": [
      "True\n"
     ]
    }
   ],
   "source": [
    "print(2 < 3)      \n",
    "\n"
   ]
  },
  {
   "cell_type": "code",
   "execution_count": 95,
   "id": "97d99dc6-3432-4b27-b757-e507e1b6240f",
   "metadata": {},
   "outputs": [
    {
     "name": "stdout",
     "output_type": "stream",
     "text": [
      "True\n"
     ]
    }
   ],
   "source": [
    "print(2 <= 3)     \n",
    "\n"
   ]
  },
  {
   "cell_type": "code",
   "execution_count": 97,
   "id": "f313ecd2-99df-42f3-ba90-3a3ae85a883e",
   "metadata": {},
   "outputs": [
    {
     "name": "stdout",
     "output_type": "stream",
     "text": [
      "False\n"
     ]
    }
   ],
   "source": [
    "print(3 == 2)    \n"
   ]
  },
  {
   "cell_type": "code",
   "execution_count": 99,
   "id": "107260ba-2731-4023-b264-cd3187ed7f5f",
   "metadata": {},
   "outputs": [
    {
     "name": "stdout",
     "output_type": "stream",
     "text": [
      "True\n"
     ]
    }
   ],
   "source": [
    "print(3 != 2)     \n",
    " "
   ]
  },
  {
   "cell_type": "code",
   "execution_count": 101,
   "id": "d8db104d-51e6-4e42-8e17-fa2dd53231f9",
   "metadata": {},
   "outputs": [
    {
     "name": "stdout",
     "output_type": "stream",
     "text": [
      "False\n"
     ]
    }
   ],
   "source": [
    "print(len('mango') == len('avocado'))  \n",
    "\n"
   ]
  },
  {
   "cell_type": "code",
   "execution_count": 103,
   "id": "cbd9807e-2f73-41aa-ae87-a27853591ee0",
   "metadata": {},
   "outputs": [
    {
     "name": "stdout",
     "output_type": "stream",
     "text": [
      "True\n"
     ]
    }
   ],
   "source": [
    "print(len('mango') != len('avocado'))   \n"
   ]
  },
  {
   "cell_type": "code",
   "execution_count": 105,
   "id": "be1d0efb-c475-4f6e-a12a-cc2f1a27854b",
   "metadata": {},
   "outputs": [
    {
     "name": "stdout",
     "output_type": "stream",
     "text": [
      "True\n"
     ]
    }
   ],
   "source": [
    "print(len('mango') < len('avocado'))  \n",
    "\n"
   ]
  },
  {
   "cell_type": "code",
   "execution_count": 107,
   "id": "5a473a68-73e1-4b0a-ade0-ce62d1d43b38",
   "metadata": {},
   "outputs": [
    {
     "name": "stdout",
     "output_type": "stream",
     "text": [
      "False\n"
     ]
    }
   ],
   "source": [
    "print(len('milk') != len('meat'))      \n"
   ]
  },
  {
   "cell_type": "code",
   "execution_count": 109,
   "id": "49ebbafc-a7b9-4af8-8728-d13d337128bf",
   "metadata": {},
   "outputs": [
    {
     "name": "stdout",
     "output_type": "stream",
     "text": [
      "True\n"
     ]
    }
   ],
   "source": [
    "print(len('milk') == len('meat'))      \n",
    "\n"
   ]
  },
  {
   "cell_type": "code",
   "execution_count": 111,
   "id": "e021a2c1-b11e-4bb2-ae1d-899d9850a427",
   "metadata": {},
   "outputs": [
    {
     "name": "stdout",
     "output_type": "stream",
     "text": [
      "True\n"
     ]
    }
   ],
   "source": [
    "print(len('tomato') == len('potato'))  \n",
    "\n",
    "\n"
   ]
  },
  {
   "cell_type": "code",
   "execution_count": 113,
   "id": "34d73969-52f2-445a-9575-ad1bfe3da1ed",
   "metadata": {},
   "outputs": [
    {
     "name": "stdout",
     "output_type": "stream",
     "text": [
      "False\n"
     ]
    }
   ],
   "source": [
    "print(len('python') > len('dragon'))   \n"
   ]
  },
  {
   "cell_type": "markdown",
   "id": "48bee04c-52bf-4f90-8926-dc65cc181944",
   "metadata": {},
   "source": [
    "# Boolean comparison"
   ]
  },
  {
   "cell_type": "code",
   "execution_count": 117,
   "id": "e636c84c-a683-4bd2-abd0-2ec60da2a717",
   "metadata": {},
   "outputs": [
    {
     "name": "stdout",
     "output_type": "stream",
     "text": [
      "True == True:  True\n"
     ]
    }
   ],
   "source": [
    "print('True == True: ', True == True)\n",
    "\n"
   ]
  },
  {
   "cell_type": "code",
   "execution_count": 119,
   "id": "7ccaf9fe-f5b2-4c1e-a294-9f0b151522e7",
   "metadata": {},
   "outputs": [
    {
     "name": "stdout",
     "output_type": "stream",
     "text": [
      "True == False:  False\n"
     ]
    }
   ],
   "source": [
    "print('True == False: ', True == False)\n",
    "\n"
   ]
  },
  {
   "cell_type": "code",
   "execution_count": 121,
   "id": "c6802d9d-644d-41b6-9b88-1a96c9d3b7bc",
   "metadata": {},
   "outputs": [
    {
     "name": "stdout",
     "output_type": "stream",
     "text": [
      "False == False: True\n"
     ]
    }
   ],
   "source": [
    "print('False == False:', False == False)\n",
    "\n"
   ]
  },
  {
   "cell_type": "code",
   "execution_count": 123,
   "id": "0864af15-0a17-4d35-9241-cff4a3429441",
   "metadata": {},
   "outputs": [
    {
     "name": "stdout",
     "output_type": "stream",
     "text": [
      "True and True:  True\n"
     ]
    }
   ],
   "source": [
    "print('True and True: ', True and True)\n",
    "\n"
   ]
  },
  {
   "cell_type": "code",
   "execution_count": 125,
   "id": "6e42e184-e270-4ebc-9f5a-a39b1b8483a2",
   "metadata": {},
   "outputs": [
    {
     "name": "stdout",
     "output_type": "stream",
     "text": [
      "True or False: True\n"
     ]
    }
   ],
   "source": [
    "print('True or False:', True or False)"
   ]
  },
  {
   "cell_type": "markdown",
   "id": "6dd82f81-e93c-4439-a189-a10a9d05de3b",
   "metadata": {},
   "source": [
    "# Another way comparison"
   ]
  },
  {
   "cell_type": "code",
   "execution_count": 144,
   "id": "891fedbd-4b7a-49e5-b599-f6207c04591e",
   "metadata": {},
   "outputs": [
    {
     "name": "stdout",
     "output_type": "stream",
     "text": [
      "1 is 1 True\n"
     ]
    },
    {
     "name": "stderr",
     "output_type": "stream",
     "text": [
      "<>:1: SyntaxWarning: \"is\" with 'int' literal. Did you mean \"==\"?\n",
      "<>:1: SyntaxWarning: \"is\" with 'int' literal. Did you mean \"==\"?\n",
      "C:\\Users\\krish\\AppData\\Local\\Temp\\ipykernel_12276\\3920528397.py:1: SyntaxWarning: \"is\" with 'int' literal. Did you mean \"==\"?\n",
      "  print('1 is 1', 1 is 1)\n"
     ]
    }
   ],
   "source": [
    "print('1 is 1', 1 is 1)                   \n",
    "\n",
    " "
   ]
  },
  {
   "cell_type": "code",
   "execution_count": 146,
   "id": "ef8582e9-f014-41d9-ac88-947ab3fa68cf",
   "metadata": {},
   "outputs": [
    {
     "name": "stdout",
     "output_type": "stream",
     "text": [
      "1 is not 2 True\n"
     ]
    },
    {
     "name": "stderr",
     "output_type": "stream",
     "text": [
      "<>:1: SyntaxWarning: \"is not\" with 'int' literal. Did you mean \"!=\"?\n",
      "<>:1: SyntaxWarning: \"is not\" with 'int' literal. Did you mean \"!=\"?\n",
      "C:\\Users\\krish\\AppData\\Local\\Temp\\ipykernel_12276\\215643914.py:1: SyntaxWarning: \"is not\" with 'int' literal. Did you mean \"!=\"?\n",
      "  print('1 is not 2', 1 is not 2)\n"
     ]
    }
   ],
   "source": [
    "print('1 is not 2', 1 is not 2)            \n",
    "\n"
   ]
  },
  {
   "cell_type": "code",
   "execution_count": 148,
   "id": "df7bbeec-e8d2-4eee-9a68-74d4c5435b92",
   "metadata": {},
   "outputs": [
    {
     "name": "stdout",
     "output_type": "stream",
     "text": [
      "A in Asabeneh True\n"
     ]
    }
   ],
   "source": [
    "print('A in Asabeneh', 'A' in 'Asabeneh')  \n"
   ]
  },
  {
   "cell_type": "code",
   "execution_count": 150,
   "id": "6e080d1d-ba47-4ea0-9ad5-876bcecbd7d3",
   "metadata": {},
   "outputs": [
    {
     "name": "stdout",
     "output_type": "stream",
     "text": [
      "B in Asabeneh False\n"
     ]
    }
   ],
   "source": [
    "print('B in Asabeneh', 'B' in 'Asabeneh')  \n",
    "\n"
   ]
  },
  {
   "cell_type": "code",
   "execution_count": 152,
   "id": "ba9897f1-2559-41c0-84f5-b7242dae14fd",
   "metadata": {},
   "outputs": [
    {
     "name": "stdout",
     "output_type": "stream",
     "text": [
      "True\n"
     ]
    }
   ],
   "source": [
    "print('coding' in 'coding for all')  \n",
    "\n"
   ]
  },
  {
   "cell_type": "code",
   "execution_count": 154,
   "id": "734ebee4-94b1-478a-aa0f-3a7a091b07d1",
   "metadata": {},
   "outputs": [
    {
     "name": "stdout",
     "output_type": "stream",
     "text": [
      "a in an: True\n"
     ]
    }
   ],
   "source": [
    "print('a in an:', 'a' in 'an')     \n",
    "\n"
   ]
  },
  {
   "cell_type": "code",
   "execution_count": 156,
   "id": "f046748a-1dfe-4ff4-8dd0-988b2e5e21c8",
   "metadata": {},
   "outputs": [
    {
     "name": "stdout",
     "output_type": "stream",
     "text": [
      "4 is 2 ** 2: True\n"
     ]
    },
    {
     "name": "stderr",
     "output_type": "stream",
     "text": [
      "<>:1: SyntaxWarning: \"is\" with 'int' literal. Did you mean \"==\"?\n",
      "<>:1: SyntaxWarning: \"is\" with 'int' literal. Did you mean \"==\"?\n",
      "C:\\Users\\krish\\AppData\\Local\\Temp\\ipykernel_12276\\4054709699.py:1: SyntaxWarning: \"is\" with 'int' literal. Did you mean \"==\"?\n",
      "  print('4 is 2 ** 2:', 4 is 2 ** 2)\n"
     ]
    }
   ],
   "source": [
    "print('4 is 2 ** 2:', 4 is 2 ** 2)  "
   ]
  },
  {
   "cell_type": "code",
   "execution_count": 161,
   "id": "5a2fc215-905a-483f-814b-79d1471fb414",
   "metadata": {},
   "outputs": [
    {
     "name": "stdout",
     "output_type": "stream",
     "text": [
      "True\n"
     ]
    }
   ],
   "source": [
    "print(3 > 2 and 4 > 3)  \n",
    "\n"
   ]
  },
  {
   "cell_type": "code",
   "execution_count": 163,
   "id": "f1dce660-4ec4-4cfe-a268-d7d6bbcb0277",
   "metadata": {},
   "outputs": [
    {
     "name": "stdout",
     "output_type": "stream",
     "text": [
      "False\n"
     ]
    }
   ],
   "source": [
    "print(3 > 2 and 4 < 3)  "
   ]
  },
  {
   "cell_type": "code",
   "execution_count": 165,
   "id": "cac125e0-5993-4c63-a149-0578f03bc330",
   "metadata": {},
   "outputs": [
    {
     "name": "stdout",
     "output_type": "stream",
     "text": [
      "False\n"
     ]
    }
   ],
   "source": [
    "print(3 < 2 and 4 < 3) "
   ]
  },
  {
   "cell_type": "code",
   "execution_count": 167,
   "id": "f357efb1-6b62-45ba-9763-80b752cd0ed4",
   "metadata": {},
   "outputs": [
    {
     "name": "stdout",
     "output_type": "stream",
     "text": [
      "True\n"
     ]
    }
   ],
   "source": [
    "print(3 > 2 or 4 > 3)  "
   ]
  },
  {
   "cell_type": "code",
   "execution_count": 169,
   "id": "15c66676-9b40-4d13-8361-83a3d42dfc28",
   "metadata": {},
   "outputs": [
    {
     "name": "stdout",
     "output_type": "stream",
     "text": [
      "True\n"
     ]
    }
   ],
   "source": [
    "print(3 > 2 or 4 < 3) "
   ]
  },
  {
   "cell_type": "code",
   "execution_count": 171,
   "id": "fc57719d-e529-4071-8918-cd5bdb031708",
   "metadata": {},
   "outputs": [
    {
     "name": "stdout",
     "output_type": "stream",
     "text": [
      "False\n"
     ]
    }
   ],
   "source": [
    "print(3 < 2 or 4 < 3)  "
   ]
  },
  {
   "cell_type": "code",
   "execution_count": null,
   "id": "d6a5c71b-3c44-4c59-9d77-b392155b05f8",
   "metadata": {},
   "outputs": [],
   "source": []
  }
 ],
 "metadata": {
  "kernelspec": {
   "display_name": "Python 3 (ipykernel)",
   "language": "python",
   "name": "python3"
  },
  "language_info": {
   "codemirror_mode": {
    "name": "ipython",
    "version": 3
   },
   "file_extension": ".py",
   "mimetype": "text/x-python",
   "name": "python",
   "nbconvert_exporter": "python",
   "pygments_lexer": "ipython3",
   "version": "3.12.7"
  }
 },
 "nbformat": 4,
 "nbformat_minor": 5
}
